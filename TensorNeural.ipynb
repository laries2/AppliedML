{
 "cells": [],
 "metadata": {
  "kernelspec": {
   "display_name": "Python 3",
   "language": "python",
   "name": "python3"
  },
  "language_info": {
   "codemirror_mode": {
    "name": "ipython",
    "version": 2
   },
   "file_extension": ".py",
   "mimetype": "text/x-python",
   "name": "python",
   "nbconvert_exporter": "python",
   "pygments_lexer": "ipython2",
   "version": "2.7.6"
  },
  "pycharm": {
   "stem_cell": {
    "cell_type": "raw",
    "source": [
     "import tensorflow as tf\n",
     "from tensorflow.keras.models import Sequential\n",
     "from tensorflow.keras.layers import Dense, Dropout, Activation, Flatten, Conv2D, MaxPooling2D\n",
     "import pickel\n",
     "x = pickel.load(\"x.pickel\",\"rb\")\n",
     "y = pickel.load(\"y.pickel\",\"rb\")\n",
     "X = X/255.0\n",
     "model = Sequential()\n",
     "model.add(Conv2D(64, (3,3), input_shape = X.shape[1:]))\n",
     "model.add(Activation(\"relu\"))\n",
     "model.add(MaxPooling2D(pool_size=(2,2)))\n",
     "\n",
     "model.add(Conv2D(64, (3,3)))\n",
     "model.add(Activation(\"relu\"))\n",
     "model.add(MaxPooling2D(pool_size=(2,2)))\n",
     "\n",
     "model.add(Flatten())\n",
     "model.add(Dense(64))\n",
     "\n",
     "model.add(Dense(1))\n",
     "model.add(Activation('sigmoid'))\n",
     "\n",
     "model.compile(loss=\"binary_crossentropy\",\n",
     "             optimizer=\"binary_crossentropy\",\n",
     "             metrics=['accuracy'])\n",
     "\n",
     "model.fit(x, y, batch_size=32, epochs=3, validation_split=0.1)"
    ],
    "metadata": {
     "collapsed": false
    }
   }
  }
 },
 "nbformat": 4,
 "nbformat_minor": 0
}